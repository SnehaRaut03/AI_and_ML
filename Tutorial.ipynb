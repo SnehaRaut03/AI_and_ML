{
 "cells": [
  {
   "cell_type": "code",
   "execution_count": null,
   "id": "4c37729e-828e-4f84-bda6-3a96a8618cfb",
   "metadata": {},
   "outputs": [],
   "source": []
  }
 ],
 "metadata": {
  "kernelspec": {
   "display_name": "Python (tensorflow_eni)",
   "language": "python",
   "name": "tensorflow_eni"
  },
  "language_info": {
   "codemirror_mode": {
    "name": "ipython",
    "version": 3
   },
   "file_extension": ".py",
   "mimetype": "text/x-python",
   "name": "python",
   "nbconvert_exporter": "python",
   "pygments_lexer": "ipython3",
   "version": "3.11.6"
  }
 },
 "nbformat": 4,
 "nbformat_minor": 5
}
