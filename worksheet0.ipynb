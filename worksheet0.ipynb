{
 "cells": [
  {
   "cell_type": "markdown",
   "id": "cc89444c-f334-40fa-bd13-ee88d9c6acb5",
   "metadata": {},
   "source": [
    "## Woksheet 0"
   ]
  },
  {
   "cell_type": "markdown",
   "id": "83fa0140-f4f8-4f9e-8f23-33966a7124a2",
   "metadata": {},
   "source": [
    "### Data types in python"
   ]
  },
  {
   "cell_type": "code",
   "execution_count": 1,
   "id": "868f0938-1c9e-49e2-979a-d145ee47f69d",
   "metadata": {},
   "outputs": [
    {
     "name": "stdout",
     "output_type": "stream",
     "text": [
      "Original List: [1, 2, 3]\n",
      "Modified List: [1, 2, 3, 4]\n",
      "Original Tuple: (1, 2, 3)\n"
     ]
    }
   ],
   "source": [
    "# Mutable Data Type Example (List)\n",
    "my_list = [1, 2, 3]\n",
    "print(\"Original List:\", my_list)\n",
    "# Modifying the list (changing contents)\n",
    "my_list.append(4)\n",
    "print(\"Modified List:\", my_list)\n",
    "# Immutable Data Type Example (Tuple)\n",
    "my_tuple = (1, 2, 3)\n",
    "print(\"Original Tuple:\", my_tuple)"
   ]
  },
  {
   "cell_type": "markdown",
   "id": "f449777e-f385-4ef2-a2ac-332cf598d11d",
   "metadata": {},
   "source": [
    "### Some Common Data Types in Python:\n"
   ]
  },
  {
   "cell_type": "code",
   "execution_count": 2,
   "id": "e01f8a07-b0a4-4f69-aefa-3ac4d1f4c9f5",
   "metadata": {},
   "outputs": [
    {
     "name": "stdout",
     "output_type": "stream",
     "text": [
      "data type of variable age =  <class 'int'>\n",
      "data type of variable pi =  <class 'float'>\n",
      "data type of variable temperature =  <class 'float'>\n"
     ]
    }
   ],
   "source": [
    "age = 20 #int\n",
    "pi = 3.14 #float\n",
    "temperature = 10.8 #float\n",
    "print(\"data type of variable age = \", type(age))\n",
    "print(\"data type of variable pi = \", type(pi))\n",
    "print(\"data type of variable temperature = \", type(temperature))"
   ]
  },
  {
   "cell_type": "markdown",
   "id": "f866d645-dd0b-4ed1-a80d-816b37f2cbd4",
   "metadata": {},
   "source": [
    "### Sequence - String"
   ]
  },
  {
   "cell_type": "code",
   "execution_count": 5,
   "id": "e89f978c-0e35-47a8-b588-32006ae80f7d",
   "metadata": {},
   "outputs": [
    {
     "name": "stdout",
     "output_type": "stream",
     "text": [
      "Data type of the variable name =  <class 'str'>\n",
      "Data type of the variable greeting =  <class 'str'>\n",
      "Data type of the variable address =  <class 'str'>\n",
      "The first letter of the name is: S\n",
      "The last letter of the name is: a\n",
      "The second letter to the fourth of the name is: neh\n",
      "The first two letters of the name are: Sn\n",
      "Substring starting from the third letter is: eha\n"
     ]
    }
   ],
   "source": [
    "name = \"Sneha\"\n",
    "greeting = \"say the name\"\n",
    "address = \"Ekantakuna\"\n",
    "print(\"Data type of the variable name = \",type(name))\n",
    "print(\"Data type of the variable greeting = \",type(greeting))\n",
    "print(\"Data type of the variable address = \",type(address))\n",
    "# slice only one element\n",
    "print(\"The first letter of the name is:\", name[0])\n",
    "print(\"The last letter of the name is:\", name[-1])\n",
    "# slice a range of elements\n",
    "print(\"The second letter to the fourth of the name is:\", name[1:4])\n",
    "print(\"The first two letters of the name are:\", name[:2])\n",
    "print(\"Substring starting from the third letter is:\", name[2:])"
   ]
  },
  {
   "cell_type": "markdown",
   "id": "dab435b0-f9d9-4a1a-9a0d-d9355e573589",
   "metadata": {},
   "source": [
    "### Sequence - List"
   ]
  },
  {
   "cell_type": "code",
   "execution_count": 6,
   "id": "65ad396f-4025-4e29-8cc7-76d8258a7d72",
   "metadata": {},
   "outputs": [
    {
     "data": {
      "text/plain": [
       "[False, 'Hi', True]"
      ]
     },
     "execution_count": 6,
     "metadata": {},
     "output_type": "execute_result"
    }
   ],
   "source": [
    "list1 = [2, 4, 6, 8]\n",
    "mixed_list = [77, \"Hi\", True]\n",
    "mixed_list[0] = False\n",
    "mixed_list"
   ]
  },
  {
   "cell_type": "markdown",
   "id": "1836c100-c7f2-4565-a229-f865dd72f19e",
   "metadata": {},
   "source": [
    "#### Sequence - Tuple"
   ]
  },
  {
   "cell_type": "code",
   "execution_count": 7,
   "id": "d6dc8244-7935-4090-922e-d0ce7b8d4c0f",
   "metadata": {},
   "outputs": [
    {
     "name": "stdout",
     "output_type": "stream",
     "text": [
      "First element: purple\n",
      "Last two elements: ('red', 'pink')\n",
      "Middle two elements: ('green', 'red')\n"
     ]
    },
    {
     "data": {
      "text/plain": [
       "('purple', 'green', 'red', 'pink')"
      ]
     },
     "execution_count": 7,
     "metadata": {},
     "output_type": "execute_result"
    }
   ],
   "source": [
    "colors = (\"purple\", \"green\", \"red\", \"pink\")\n",
    "print(\"First element:\", colors[0])\n",
    "print(\"Last two elements:\", colors[2:])\n",
    "print(\"Middle two elements:\", colors[1:3])\n",
    "# colors[0] = \"black\" (will generate an error since tuples are immutable)\n",
    "colors"
   ]
  },
  {
   "cell_type": "markdown",
   "id": "d407685d-cc59-4e9f-92bd-2e1e48987fe5",
   "metadata": {},
   "source": [
    "### Mapping"
   ]
  },
  {
   "cell_type": "code",
   "execution_count": 13,
   "id": "b9d03536-d5fb-4862-8bcb-d3e3806cd115",
   "metadata": {},
   "outputs": [
    {
     "name": "stdout",
     "output_type": "stream",
     "text": [
      "Hello my name is Sneha. I am 21 years old and I live at Lalitpur.\n",
      "All keys: ['name', 'age', 'city']\n",
      "All values: ['Sneha', 21, 'Lalitpur']\n"
     ]
    }
   ],
   "source": [
    "person = {\"name\":\"Sneha\",\"age\":21,\"city\":\"Lalitpur\"}\n",
    "print(f\"Hello my name is {person[\"name\"]}. I am {person[\"age\"]} years old and I live at {\n",
    "person[\"city\"]}.\")\n",
    "print(\"All keys:\", list(person.keys()))\n",
    "print(\"All values:\", list(person.values()))"
   ]
  },
  {
   "cell_type": "markdown",
   "id": "6c51610c-bd8c-414d-a83b-08353a1ebf14",
   "metadata": {},
   "source": [
    "### Set"
   ]
  },
  {
   "cell_type": "code",
   "execution_count": 14,
   "id": "ed5cb24d-ab82-4b96-a3e5-b7fdda9a10ea",
   "metadata": {},
   "outputs": [
    {
     "name": "stdout",
     "output_type": "stream",
     "text": [
      "{1, 2, 3, 4, 5}\n"
     ]
    }
   ],
   "source": [
    "unique_numbers = {1,2,3,3,3,3,4,5}\n",
    "print(unique_numbers)"
   ]
  },
  {
   "cell_type": "markdown",
   "id": "a961755f-ebd4-4258-ba92-8d76c037416c",
   "metadata": {},
   "source": [
    "### Boolean"
   ]
  },
  {
   "cell_type": "code",
   "execution_count": 15,
   "id": "87a0793c-a5d1-4ab4-b556-79cd99a9edea",
   "metadata": {},
   "outputs": [
    {
     "name": "stdout",
     "output_type": "stream",
     "text": [
      "data type of the variable is_student =  <class 'bool'>\n",
      "data type of the variable has_license =  <class 'bool'>\n"
     ]
    }
   ],
   "source": [
    "is_student = True\n",
    "has_license = False\n",
    "print(\"data type of the variable is_student = \",type(is_student))\n",
    "print(\"data type of the variable has_license = \",type(has_license))"
   ]
  },
  {
   "cell_type": "markdown",
   "id": "6c2f8bf9-53db-4d7d-b6ff-12146121155f",
   "metadata": {},
   "source": [
    "### Logical Statements"
   ]
  },
  {
   "cell_type": "code",
   "execution_count": 16,
   "id": "52cdce78-9e01-43f4-8bc8-691ead662830",
   "metadata": {},
   "outputs": [
    {
     "name": "stdout",
     "output_type": "stream",
     "text": [
      "Negative\n"
     ]
    }
   ],
   "source": [
    "num = -9\n",
    "if num > 0:\n",
    "    print(\"Positive\")\n",
    "elif num == 0:\n",
    "    print(\"Zero\")\n",
    "else:\n",
    "    print(\"Negative\")"
   ]
  },
  {
   "cell_type": "code",
   "execution_count": 17,
   "id": "f5e29ff7-a54d-4ddb-9cfa-0a4992616d29",
   "metadata": {},
   "outputs": [
    {
     "name": "stdout",
     "output_type": "stream",
     "text": [
      "At least one condition is true\n",
      "x is not equal to 0\n"
     ]
    }
   ],
   "source": [
    "x = 4\n",
    "y = 90\n",
    "if x > 0 and y < 20:\n",
    "    print(\"Both conditions are true\")\n",
    "if x > 0 or y > 20:\n",
    "    print(\"At least one condition is true\")\n",
    "if not x == 0:\n",
    "    print(\"x is not equal to 0\")"
   ]
  },
  {
   "cell_type": "code",
   "execution_count": 18,
   "id": "b2578e09-da5f-4fce-a3c5-6cfead686edf",
   "metadata": {},
   "outputs": [
    {
     "name": "stdout",
     "output_type": "stream",
     "text": [
      "Either x or y is False\n",
      "At least one of x or y is True\n",
      "x is True\n"
     ]
    }
   ],
   "source": [
    "x = True\n",
    "y = False\n",
    "# Using the ’and’ operator\n",
    "if x and y:\n",
    "    print(\"Both x and y are True\")\n",
    "else:\n",
    "    print(\"Either x or y is False\") # This will be printed\n",
    "# Using the ’or’ operator\n",
    "if x or y:\n",
    "    print(\"At least one of x or y is True\") # This will be printed\n",
    "else:\n",
    "    print(\"Both x and y are False\")\n",
    "# Using the ’not’ operator\n",
    "if not x:\n",
    "    print(\"x is False\") # This will not be printed\n",
    "else:\n",
    "    print(\"x is True\") # This will be printed"
   ]
  },
  {
   "cell_type": "code",
   "execution_count": 19,
   "id": "d6d324b6-ea5a-450a-95f0-f2f8ff022e89",
   "metadata": {},
   "outputs": [
    {
     "name": "stdout",
     "output_type": "stream",
     "text": [
      "cherry\n",
      "watermelon\n",
      "honeydew\n",
      "Count is:  0\n",
      "Count is:  1\n",
      "Count is:  2\n",
      "Count is:  3\n",
      "Count is:  4\n",
      "loop 1\n",
      "cherry\n"
     ]
    }
   ],
   "source": [
    "fruits = [\"cherry\",\"watermelon\",\"honeydew\"]\n",
    "for fruit in fruits:\n",
    "    print(fruit)\n",
    "\n",
    "count = 0\n",
    "while count < 5:\n",
    "    print (\"Count is: \",count)\n",
    "    count += 1\n",
    "\n",
    "fruits = [\"cherry\",\"watermelon\",\"strawberry\"]\n",
    "print(\"loop 1\")\n",
    "for fruit in fruits:\n",
    "    print(fruit)\n",
    "    if fruit == \"cherry\":\n",
    "        break\n",
    "\n",
    "    print(\"loop 2\")\n",
    "    for fruit in fruits:\n",
    "        if fruit == \"cherry\":\n",
    "            continue\n",
    "        else:\n",
    "            print(fruit)"
   ]
  },
  {
   "cell_type": "markdown",
   "id": "4a42d413-a59e-4261-81b7-ef705b8664fc",
   "metadata": {},
   "source": [
    "### Functions"
   ]
  },
  {
   "cell_type": "code",
   "execution_count": 20,
   "id": "79b936dd-534c-47dc-89c7-9058f89caa05",
   "metadata": {},
   "outputs": [
    {
     "name": "stdout",
     "output_type": "stream",
     "text": [
      "Goodbye Everybody\n"
     ]
    }
   ],
   "source": [
    "print(\"Goodbye Everybody\")\n",
    "length = len(\"Namaste\") \n",
    "data_type = type(42) \n",
    "total = sum([1, 2, 3]) "
   ]
  },
  {
   "cell_type": "code",
   "execution_count": 1,
   "id": "2a26cf44-9e78-485c-bc76-f15aa9271fbd",
   "metadata": {},
   "outputs": [],
   "source": [
    "# str.upper()\n",
    "message = \"hello\".upper()\n",
    "# list.append()\n",
    "fruits = [\"apple\", \"banana\"]\n",
    "fruits.append(\"cherry\")\n",
    "# dict.get()\n",
    "info = {\"name\": \"Sneha\", \"age\": 21}\n",
    "age = info.get(\"age\")"
   ]
  },
  {
   "cell_type": "code",
   "execution_count": 25,
   "id": "8273147e-893b-4225-833b-a24fefda510c",
   "metadata": {},
   "outputs": [
    {
     "name": "stdout",
     "output_type": "stream",
     "text": [
      "Choose conversion type:\n",
      "1. Celsius to Fahrenheit\n",
      "2. Fahrenheit to Celsius\n"
     ]
    },
    {
     "name": "stdin",
     "output_type": "stream",
     "text": [
      "Enter 1 or 2:  1\n",
      "Enter temperature in Celsius:  95\n"
     ]
    },
    {
     "name": "stdout",
     "output_type": "stream",
     "text": [
      "95.0C is equal to 203.0F\n"
     ]
    },
    {
     "data": {
      "text/plain": [
       "203.0"
      ]
     },
     "execution_count": 25,
     "metadata": {},
     "output_type": "execute_result"
    }
   ],
   "source": [
    "def temperature_converter():\n",
    "    print(\"Choose conversion type:\")\n",
    "    print(\"1. Celsius to Fahrenheit\")\n",
    "    print(\"2. Fahrenheit to Celsius\")\n",
    "    # Get conversion choice from user\n",
    "    choice = input(\"Enter 1 or 2: \")\n",
    "    if choice == \"1\":\n",
    "        celsius = float(input(\"Enter temperature in Celsius: \"))\n",
    "        fahrenheit = (celsius * 9/5) + 32\n",
    "        print(f\"{celsius}C is equal to {fahrenheit}F\")\n",
    "        return fahrenheit\n",
    "    elif choice == \"2\":\n",
    "        fahrenheit = float(input(\"Enter temperature in Fahrenheit: \"))\n",
    "        celsius = (fahrenheit - 32) * 5/9\n",
    "        print(f\"{fahrenheit}F is equal to {celsius}C\")\n",
    "        return celsius\n",
    "    else:\n",
    "        print(\"Invalid choice. Please enter 1 or 2.\")\n",
    "    return None\n",
    "\n",
    "temperature_converter()"
   ]
  },
  {
   "cell_type": "markdown",
   "id": "a23a220c-e116-4099-a81d-753daec6bbba",
   "metadata": {},
   "source": [
    "#### global variable"
   ]
  },
  {
   "cell_type": "code",
   "execution_count": 26,
   "id": "41c28a11-0628-429c-b5fe-d103a7e8dfe6",
   "metadata": {},
   "outputs": [
    {
     "name": "stdout",
     "output_type": "stream",
     "text": [
      "77\n"
     ]
    }
   ],
   "source": [
    "x = 77\n",
    "def print_global():\n",
    "    print(x) \n",
    "print_global()"
   ]
  },
  {
   "cell_type": "markdown",
   "id": "dc2c8f29-9b76-4fb5-b58e-d96de5f63061",
   "metadata": {},
   "source": [
    "#### local variable"
   ]
  },
  {
   "cell_type": "code",
   "execution_count": 27,
   "id": "776219a4-0aac-4f6d-855f-4a020ed37517",
   "metadata": {},
   "outputs": [
    {
     "name": "stdout",
     "output_type": "stream",
     "text": [
      "5\n",
      "False\n"
     ]
    }
   ],
   "source": [
    "def print_local():\n",
    "    y = 5 \n",
    "    print(y)\n",
    "\n",
    "print_local() \n",
    "print(y) "
   ]
  },
  {
   "cell_type": "markdown",
   "id": "e38dca6a-f764-4232-8b59-fe6cdc1dcc2a",
   "metadata": {},
   "source": [
    "#### Accessing and Modifying Global Variables Inside a Function\n"
   ]
  },
  {
   "cell_type": "code",
   "execution_count": 28,
   "id": "239accae-ea24-4e75-8d5d-65da86cb45f4",
   "metadata": {},
   "outputs": [
    {
     "name": "stdout",
     "output_type": "stream",
     "text": [
      "20\n"
     ]
    }
   ],
   "source": [
    "x = 10 \n",
    "def modify_global():\n",
    "    global x \n",
    "    x = 20 \n",
    "\n",
    "modify_global()\n",
    "print(x) "
   ]
  },
  {
   "cell_type": "markdown",
   "id": "004135bb-406c-41f6-aedd-99b105beb6ed",
   "metadata": {},
   "source": [
    "## Excersie on Functions"
   ]
  },
  {
   "cell_type": "code",
   "execution_count": 29,
   "id": "2f6a5069-2ec6-4385-87ad-3fc377880d15",
   "metadata": {},
   "outputs": [
    {
     "name": "stdout",
     "output_type": "stream",
     "text": [
      "Choose a conversion type: \n",
      "1. Length\n",
      "2. Weight\n",
      "3. Volume\n"
     ]
    },
    {
     "name": "stdin",
     "output_type": "stream",
     "text": [
      "Enter your choice (1-3):  1\n"
     ]
    },
    {
     "name": "stdout",
     "output_type": "stream",
     "text": [
      "1. Meters to Feet\n",
      "2. Feet to Meters\n"
     ]
    },
    {
     "name": "stdin",
     "output_type": "stream",
     "text": [
      "Enter your choice (1-2):  1\n",
      "Enter your value to convert:  180\n"
     ]
    },
    {
     "name": "stdout",
     "output_type": "stream",
     "text": [
      "180.0m = 590.4ft\n"
     ]
    }
   ],
   "source": [
    "#Task1: Create a Python program that converts between different units of measurement.\n",
    "def m_to_ft(meters):\n",
    "    return meters * 3.280\n",
    "\n",
    "def ft_to_m(feet):\n",
    "    return feet / 3.280\n",
    "\n",
    "def kg_to_lbs(kilogram):\n",
    "    return kilogram * 2.204\n",
    "\n",
    "def lbs_to_kg(pounds):\n",
    "    return pounds / 2.204\n",
    "\n",
    "def l_to_gal(liter):\n",
    "    return liter * 0.2641\n",
    "\n",
    "def gal_to_l(gallon):\n",
    "    return gallon / 0.2641\n",
    "\n",
    "def conversion():\n",
    "    try:\n",
    "        print(\"Choose a conversion type: \")\n",
    "        print(\"1. Length\")\n",
    "        print(\"2. Weight\")\n",
    "        print(\"3. Volume\")\n",
    "        choice = int(input(\"Enter your choice (1-3): \"))\n",
    "\n",
    "        if choice == 1:\n",
    "            print(\"1. Meters to Feet\")\n",
    "            print(\"2. Feet to Meters\")\n",
    "            choice2 = int(input(\"Enter your choice (1-2): \"))\n",
    "            value = float(input(\"Enter your value to convert: \"))\n",
    "            if choice2 == 1:\n",
    "                result = m_to_ft(value)\n",
    "                print(f\"{value}m = {result}ft\")\n",
    "            elif choice2 == 2:\n",
    "                result = ft_to_m(value)\n",
    "                print(f\"{value}ft = {value}m\")\n",
    "            else:\n",
    "                print(\"Invalid choice. Please try again!\")\n",
    "\n",
    "        elif choice == 2:\n",
    "            print(\"1. Kilograms to Pounds\")\n",
    "            print(\"2. Pounds to Kilograms\")\n",
    "            choice2 = int(input(\"Enter your choice (1-2): \"))\n",
    "            value = float(input(\"Enter your value to convert: \"))\n",
    "            if (choice2 == 1):\n",
    "                result = kg_to_lbs(value)\n",
    "                print(f\"{value}kg = {result}lbs\")\n",
    "            elif (choice2 == 2):\n",
    "                result = lbs_to_kg(value)\n",
    "                print(f\"{value}lbs = {result}kg\")\n",
    "            else:\n",
    "                print(\"Invalid choice. Please try again!\")\n",
    "\n",
    "        elif choice == 3:\n",
    "            print(\"1. Liters to Gallons\")\n",
    "            print(\"2. Gallons to Liters\")\n",
    "            choice2 = int(input(\"Enter your choice (1-2): \"))\n",
    "            value = float(input(\"Enter your value to convert: \"))\n",
    "            if (choice2 == 1):\n",
    "                result = l_to_gal(value)\n",
    "                print(f\"{value}l = {result}gal\")\n",
    "            elif (choice2 == 2):\n",
    "                result = gal_to_l(value)\n",
    "                print(f\"{value}gal = {result}l\")\n",
    "            else:\n",
    "                print(\"Invalid choice. Please try again!\")\n",
    "\n",
    "        else:\n",
    "            print(\"Invalid input. Please try again!\")\n",
    "\n",
    "    except ValueError:\n",
    "        print(\"Invalid input. Please enter a number.\")\n",
    "\n",
    "conversion()"
   ]
  },
  {
   "cell_type": "code",
   "execution_count": 30,
   "id": "ac3821f1-eaca-4a2e-9618-4fa99f8aa2d4",
   "metadata": {},
   "outputs": [
    {
     "name": "stdout",
     "output_type": "stream",
     "text": [
      "Choose a mathematical operation:\n",
      "1. Sum\n",
      "2. Average\n",
      "3. Maximum\n",
      "4. Minimum\n"
     ]
    },
    {
     "name": "stdin",
     "output_type": "stream",
     "text": [
      "Enter your choice (1-4):  1\n",
      "Enter numbers separated by spaces:  1 2\n"
     ]
    },
    {
     "name": "stdout",
     "output_type": "stream",
     "text": [
      "Sum: 3.0\n"
     ]
    }
   ],
   "source": [
    "def calculate_sum(numbers):\n",
    "    return sum(numbers)\n",
    "\n",
    "def calculate_avg(numbers):\n",
    "    return sum(numbers) / len(numbers) if numbers else 0\n",
    "\n",
    "def find_max(numbers):\n",
    "    return max(numbers)\n",
    "\n",
    "def find_min(numbers):\n",
    "    return min(numbers)\n",
    "\n",
    "def main():\n",
    "    try:\n",
    "        print(\"Choose a mathematical operation:\")\n",
    "        print(\"1. Sum\")\n",
    "        print(\"2. Average\")\n",
    "        print(\"3. Maximum\")\n",
    "        print(\"4. Minimum\")\n",
    "        \n",
    "        choice = int(input(\"Enter your choice (1-4): \"))\n",
    "        numbers = list(map(float, input(\"Enter numbers separated by spaces: \").split()))\n",
    "        \n",
    "        if not numbers:\n",
    "            print(\"Error: The list of numbers cannot be empty.\")\n",
    "            return\n",
    "        if choice == 1:\n",
    "            print(f\"Sum: {calculate_sum(numbers)}\")\n",
    "        elif choice == 2:\n",
    "            print(f\"Average: {calculate_avg(numbers)}\")\n",
    "        elif choice == 3:\n",
    "            print(f\"Maximum: {find_max(numbers)}\")\n",
    "        elif choice == 4:\n",
    "            print(f\"Minimum: {find_min(numbers)}\")\n",
    "        else:\n",
    "            print(\"Invalid choice.\")\n",
    "    except ValueError:\n",
    "        print(\"Invalid input. Please enter numeric values.\")\n",
    "main()\n"
   ]
  },
  {
   "cell_type": "markdown",
   "id": "8c619ddc-a7ed-44a6-a8c3-ee46ead1fc0e",
   "metadata": {},
   "source": [
    "#### Excersie on List Manipulation"
   ]
  },
  {
   "cell_type": "code",
   "execution_count": 31,
   "id": "8aca9b06-f733-42d9-b9ac-545ac087d38e",
   "metadata": {},
   "outputs": [
    {
     "name": "stdin",
     "output_type": "stream",
     "text": [
      "Enter elements separated by space:  2 5\n"
     ]
    },
    {
     "name": "stdout",
     "output_type": "stream",
     "text": [
      "List: ['2', '5']\n",
      "Every other element in the list: ['2']\n"
     ]
    }
   ],
   "source": [
    "#Task01: Extract Every Other Element:\n",
    "def extract_every_other(lst):\n",
    "    return lst[::2]\n",
    "\n",
    "def main():\n",
    "    user_input = input(\"Enter elements separated by space: \").split()\n",
    "    print(f\"List:\", user_input)\n",
    "    print(f\"Every other element in the list: {extract_every_other(user_input)}\")\n",
    "\n",
    "if __name__ == \"__main__\":\n",
    "    main()"
   ]
  },
  {
   "cell_type": "code",
   "execution_count": 32,
   "id": "1220de81-10a2-4866-98e6-be38362627e2",
   "metadata": {},
   "outputs": [
    {
     "name": "stdin",
     "output_type": "stream",
     "text": [
      "Enter elements separated by space:  1 2 4\n",
      "Enter start element:  2\n",
      "Enter end element:  5\n"
     ]
    },
    {
     "name": "stdout",
     "output_type": "stream",
     "text": [
      "List: ['1', '2', '4']\n",
      "Sliced Sublist: ['4']\n"
     ]
    }
   ],
   "source": [
    "#Task02: Slice a Sublist\n",
    "def get_sublist(lst, start, end):\n",
    "    return lst[start:end+1]\n",
    "\n",
    "def main():\n",
    "    user_input = input(\"Enter elements separated by space: \").split()\n",
    "    start = int(input(\"Enter start element: \"))\n",
    "    end = int(input(\"Enter end element: \"))   \n",
    "    print(f\"List:\", user_input)\n",
    "    print(f\"Sliced Sublist: {get_sublist(user_input, start, end)}\")\n",
    "\n",
    "if __name__ == \"__main__\":\n",
    "    main()"
   ]
  },
  {
   "cell_type": "code",
   "execution_count": 33,
   "id": "76e18312-b2c6-406d-b997-9dab45e22cf9",
   "metadata": {},
   "outputs": [
    {
     "name": "stdin",
     "output_type": "stream",
     "text": [
      "Enter elements separated by space:  1 5 7 9 3\n"
     ]
    },
    {
     "name": "stdout",
     "output_type": "stream",
     "text": [
      "List: ['1', '5', '7', '9', '3']\n",
      "Reversed List: ['3', '9', '7', '5', '1']\n"
     ]
    }
   ],
   "source": [
    "#Task03: Reverse a List Using Slicing:\n",
    "def reverse_list(lst):\n",
    "    return lst[::-1]\n",
    "\n",
    "def main():\n",
    "    user_input = input(\"Enter elements separated by space: \").split()\n",
    "    print(f\"List:\", user_input)\n",
    "    print(f\"Reversed List: {reverse_list(user_input)}\")\n",
    "\n",
    "if __name__ == \"__main__\":\n",
    "    main()"
   ]
  },
  {
   "cell_type": "code",
   "execution_count": 34,
   "id": "3714c31d-1a29-40b5-932a-673807255c62",
   "metadata": {},
   "outputs": [
    {
     "name": "stdin",
     "output_type": "stream",
     "text": [
      "Enter elements separated by space:  2 4 6 8 \n"
     ]
    },
    {
     "name": "stdout",
     "output_type": "stream",
     "text": [
      "List: ['2', '4', '6', '8']\n",
      "Removed first and last elements from list: ['4', '6']\n"
     ]
    }
   ],
   "source": [
    "#Task04: Remove the First and Last Elements:\n",
    "def remove_first_last(lst):\n",
    "    return lst[1:-1]\n",
    "\n",
    "def main():\n",
    "    user_input = input(\"Enter elements separated by space: \").split()\n",
    "    print(f\"List:\", user_input)\n",
    "    print(f\"Removed first and last elements from list: {remove_first_last(user_input)}\")\n",
    "\n",
    "if __name__ == \"__main__\":\n",
    "    main()"
   ]
  },
  {
   "cell_type": "code",
   "execution_count": 35,
   "id": "d4610189-a8f4-4019-8a43-45d9ee5147f6",
   "metadata": {},
   "outputs": [
    {
     "name": "stdin",
     "output_type": "stream",
     "text": [
      "Enter elements separated by space:  1 2 7 9 \n",
      "Enter the number of elements to be displayed:  2\n"
     ]
    },
    {
     "name": "stdout",
     "output_type": "stream",
     "text": [
      "List: ['1', '2', '7', '9']\n",
      "First 2 elements: ['1', '2']\n"
     ]
    }
   ],
   "source": [
    "#Task05: Get the First n Elements:\n",
    "def get_first_n(lst, n):\n",
    "    return lst[:n]\n",
    "\n",
    "def main():\n",
    "    user_input = input(\"Enter elements separated by space: \").split()\n",
    "    n = int(input(\"Enter the number of elements to be displayed: \"))\n",
    "    print(f\"List:\", user_input)\n",
    "    print(f\"First {n} elements: {get_first_n(user_input, n)}\")\n",
    "\n",
    "if __name__ == \"__main__\":\n",
    "    main()"
   ]
  },
  {
   "cell_type": "code",
   "execution_count": 36,
   "id": "5931cdd6-9597-42df-a722-341ef9d73a29",
   "metadata": {},
   "outputs": [
    {
     "name": "stdin",
     "output_type": "stream",
     "text": [
      "Enter elements separated by space:  1 2 3 4 5 6 7\n",
      "Enter the number of elements to be displayed from last:  4\n"
     ]
    },
    {
     "name": "stdout",
     "output_type": "stream",
     "text": [
      "List: ['1', '2', '3', '4', '5', '6', '7']\n",
      "Every other element in the list: ['4', '5', '6', '7']\n"
     ]
    }
   ],
   "source": [
    "#Task06: Extract Elements from the End:\n",
    "def get_last_n(lst, n):\n",
    "    return lst[-n:]\n",
    "\n",
    "def main():\n",
    "    user_input = input(\"Enter elements separated by space: \").split()\n",
    "    n = int(input(\"Enter the number of elements to be displayed from last: \"))\n",
    "    print(f\"List:\", user_input)\n",
    "    print(f\"Every other element in the list: {get_last_n(user_input, n)}\")\n",
    "\n",
    "if __name__ == \"__main__\":\n",
    "    main()"
   ]
  },
  {
   "cell_type": "code",
   "execution_count": 37,
   "id": "ea0f3357-7d63-4d86-9f85-c67e0ea2748e",
   "metadata": {},
   "outputs": [
    {
     "name": "stdin",
     "output_type": "stream",
     "text": [
      "Enter elements separated by space:  1 3 5 7 9\n"
     ]
    },
    {
     "name": "stdout",
     "output_type": "stream",
     "text": [
      "List: ['1', '3', '5', '7', '9']\n",
      "Elements in reverse order starting from second-to-last: ['7', '3']\n"
     ]
    }
   ],
   "source": [
    "#Task07: Extract Elements in Reverse Order:\n",
    "def reverse_skip(lst):\n",
    "    return lst[-2::-2]\n",
    "\n",
    "def main():\n",
    "    user_input = input(\"Enter elements separated by space: \").split()\n",
    "    print(f\"List:\", user_input)\n",
    "    print(f\"Elements in reverse order starting from second-to-last: {reverse_skip(user_input)}\")\n",
    "\n",
    "if __name__ == \"__main__\":\n",
    "    main()"
   ]
  },
  {
   "cell_type": "markdown",
   "id": "566b2ffc-5414-42aa-b1cc-bd862aa75fd2",
   "metadata": {},
   "source": [
    "#### Nested List"
   ]
  },
  {
   "cell_type": "code",
   "execution_count": 38,
   "id": "acea05e2-3025-4fc5-a147-5c43041251e8",
   "metadata": {},
   "outputs": [
    {
     "name": "stdin",
     "output_type": "stream",
     "text": [
      "Enter the number of sublists:  2\n",
      "Enter the number of elements in sublist 1:  4\n",
      "Enter element 1 of sublist 1:  2\n",
      "Enter element 2 of sublist 1:  4\n",
      "Enter element 3 of sublist 1:  6\n",
      "Enter element 4 of sublist 1:  8\n",
      "Enter the number of elements in sublist 2:  3\n",
      "Enter element 1 of sublist 2:  3\n",
      "Enter element 2 of sublist 2:  7\n",
      "Enter element 3 of sublist 2:  9\n"
     ]
    },
    {
     "name": "stdout",
     "output_type": "stream",
     "text": [
      "Original Nested List: [['2', '4', '6', '8'], ['3', '7', '9']]\n",
      "Flattened List: ['2', '4', '6', '8', '3', '7', '9']\n"
     ]
    }
   ],
   "source": [
    "#Task01: Flatten a Nested List\n",
    "def flatten(lst):\n",
    "    flat_list = []\n",
    "    for item in lst:\n",
    "        if isinstance(item, list):\n",
    "            flat_list.extend(flatten(item))\n",
    "        else:\n",
    "            flat_list.append(item)\n",
    "    return flat_list\n",
    "\n",
    "def main():\n",
    "    x = int(input(\"Enter the number of sublists: \"))\n",
    "    list1 = []\n",
    "    \n",
    "    for i in range(x):\n",
    "        y = int(input(f\"Enter the number of elements in sublist {i+1}: \"))\n",
    "        sublist = []\n",
    "        for j in range(y):\n",
    "            sublist.append(input(f\"Enter element {j+1} of sublist {i+1}: \"))\n",
    "        list1.append(sublist)\n",
    "    \n",
    "    print(\"Original Nested List:\", list1)\n",
    "    print(\"Flattened List:\", flatten(list1))\n",
    "\n",
    "if __name__ == \"__main__\":\n",
    "    main()\n"
   ]
  },
  {
   "cell_type": "code",
   "execution_count": 39,
   "id": "4a0f8f5b-c7c7-49ec-b9fc-01dd1fddbe8f",
   "metadata": {},
   "outputs": [
    {
     "name": "stdin",
     "output_type": "stream",
     "text": [
      "Enter the number of sublists:  3\n",
      "Enter the number of elements in sublist 1:  3\n",
      "Enter element 1 of sublist 1:  1\n",
      "Enter element 2 of sublist 1:  3\n",
      "Enter element 3 of sublist 1:  4\n",
      "Enter the number of elements in sublist 2:  2\n",
      "Enter element 1 of sublist 2:  2\n",
      "Enter element 2 of sublist 2:  4\n",
      "Enter the number of elements in sublist 3:  4\n",
      "Enter element 1 of sublist 3:  2\n",
      "Enter element 2 of sublist 3:  4\n",
      "Enter element 3 of sublist 3:  6\n",
      "Enter element 4 of sublist 3:  8\n"
     ]
    },
    {
     "name": "stdout",
     "output_type": "stream",
     "text": [
      "Original Nested List: [['1', '3', '4'], ['2', '4'], ['2', '4', '6', '8']]\n"
     ]
    },
    {
     "name": "stdin",
     "output_type": "stream",
     "text": [
      "Enter indices separated by space:  1 2\n"
     ]
    },
    {
     "name": "stdout",
     "output_type": "stream",
     "text": [
      "Error: Indices out of range!\n"
     ]
    }
   ],
   "source": [
    "#Task02: Accessing Nested List Elements\n",
    "def access_nested_element(lst, indices):\n",
    "    elem = lst\n",
    "    for index in indices:\n",
    "        elem = elem[index]\n",
    "    return elem\n",
    "\n",
    "def main():\n",
    "    x = int(input(\"Enter the number of sublists: \"))\n",
    "    list1 = []\n",
    "    \n",
    "    for i in range(x):\n",
    "        y = int(input(f\"Enter the number of elements in sublist {i+1}: \"))\n",
    "        sublist = []\n",
    "        for j in range(y):\n",
    "            sublist.append(input(f\"Enter element {j+1} of sublist {i+1}: \"))\n",
    "        list1.append(sublist)\n",
    "    \n",
    "    print(\"Original Nested List:\", list1)\n",
    "\n",
    "    indices = list(map(int, input(\"Enter indices separated by space: \").split()))\n",
    "    \n",
    "    try:\n",
    "        print(\"Element at indices\", indices, \":\", access_nested_element(list1, indices))\n",
    "    except IndexError:\n",
    "        print(\"Error: Indices out of range!\")\n",
    "\n",
    "if __name__ == \"__main__\":\n",
    "    main()"
   ]
  },
  {
   "cell_type": "code",
   "execution_count": 40,
   "id": "fb0ca72d-1a51-4b11-b21e-3d1cdc496d3f",
   "metadata": {},
   "outputs": [
    {
     "name": "stdin",
     "output_type": "stream",
     "text": [
      "Enter the number of sublists:  2\n",
      "Enter the number of elements in sublist 1:  3\n",
      "Enter element 1 of sublist 1:  1\n",
      "Enter element 2 of sublist 1:  2\n",
      "Enter element 3 of sublist 1:  3\n",
      "Enter the number of elements in sublist 2:  4\n",
      "Enter element 1 of sublist 2:  4\n",
      "Enter element 2 of sublist 2:  5\n",
      "Enter element 3 of sublist 2:  6\n",
      "Enter element 4 of sublist 2:  7\n"
     ]
    },
    {
     "name": "stdout",
     "output_type": "stream",
     "text": [
      "Original Nested List: [[1, 2, 3], [4, 5, 6, 7]]\n",
      "Sum of all elements: 28\n"
     ]
    }
   ],
   "source": [
    "#Task03: Sum of All Elements in a Nested List\n",
    "def sum_nested(lst):\n",
    "    return sum(flatten(lst))\n",
    "\n",
    "def main():\n",
    "    x = int(input(\"Enter the number of sublists: \"))\n",
    "    list1 = []\n",
    "    \n",
    "    for i in range(x):\n",
    "        y = int(input(f\"Enter the number of elements in sublist {i+1}: \"))\n",
    "        sublist = []\n",
    "        for j in range(y):\n",
    "            sublist.append(int(input(f\"Enter element {j+1} of sublist {i+1}: \")))\n",
    "        list1.append(sublist)\n",
    "    \n",
    "    print(\"Original Nested List:\", list1)\n",
    "    print(\"Sum of all elements:\", sum_nested(list1))\n",
    "\n",
    "if __name__ == \"__main__\":\n",
    "    main()\n"
   ]
  },
  {
   "cell_type": "code",
   "execution_count": 41,
   "id": "9dbbf124-2f22-4435-b99e-bf6100f6eeda",
   "metadata": {},
   "outputs": [
    {
     "name": "stdin",
     "output_type": "stream",
     "text": [
      "Enter the number of sublists:  1\n",
      "Enter the number of elements in sublist 1:  2\n",
      "Enter element 1 of sublist 1:  2\n",
      "Enter element 2 of sublist 1:  3\n",
      "Enter element to remove:  4\n"
     ]
    },
    {
     "name": "stdout",
     "output_type": "stream",
     "text": [
      "Original Nested List: [[2, 3]]\n",
      "Modified list: [[2, 3]]\n"
     ]
    }
   ],
   "source": [
    "#Task04: Remove Specific Element from a Nested List\n",
    "def remove_element(lst, elem):\n",
    "    if isinstance(lst, list):\n",
    "        return [remove_element(sublist, elem) for sublist in lst if sublist != elem]\n",
    "    return lst if lst != elem else None\n",
    "\n",
    "def clean_list(lst):\n",
    "    if isinstance(lst, list):\n",
    "        return [clean_list(item) for item in lst if item is not None]\n",
    "    return lst\n",
    "\n",
    "def main():\n",
    "    x = int(input(\"Enter the number of sublists: \"))\n",
    "    list1 = []\n",
    "    \n",
    "    for i in range(x):\n",
    "        y = int(input(f\"Enter the number of elements in sublist {i+1}: \"))\n",
    "        sublist = []\n",
    "        for j in range(y):\n",
    "            sublist.append(int(input(f\"Enter element {j+1} of sublist {i+1}: \")))\n",
    "        list1.append(sublist)\n",
    "\n",
    "    elem = int(input(\"Enter element to remove: \"))    \n",
    "    modified_list = clean_list(remove_element(list1, elem))\n",
    "\n",
    "    print(\"Original Nested List:\", list1)\n",
    "    print(\"Modified list:\", modified_list)\n",
    "\n",
    "if __name__ == \"__main__\":\n",
    "    main()\n"
   ]
  },
  {
   "cell_type": "code",
   "execution_count": 42,
   "id": "5833e08a-b36e-42b9-bb9a-4c045ea106ef",
   "metadata": {},
   "outputs": [
    {
     "name": "stdin",
     "output_type": "stream",
     "text": [
      "Enter the number of sublists:  3\n",
      "Enter the number of elements in sublist 1:  3\n",
      "Enter element 1 of sublist 1:  7\n",
      "Enter element 2 of sublist 1:  8\n",
      "Enter element 3 of sublist 1:  9\n",
      "Enter the number of elements in sublist 2:  4\n",
      "Enter element 1 of sublist 2:  2\n",
      "Enter element 2 of sublist 2:  4\n",
      "Enter element 3 of sublist 2:  6\n",
      "Enter element 4 of sublist 2:  8\n",
      "Enter the number of elements in sublist 3:  4\n",
      "Enter element 1 of sublist 3:  1\n",
      "Enter element 2 of sublist 3:  3\n",
      "Enter element 3 of sublist 3:  5\n",
      "Enter element 4 of sublist 3:  9\n"
     ]
    },
    {
     "name": "stdout",
     "output_type": "stream",
     "text": [
      "Original Nested List: [[7, 8, 9], [2, 4, 6, 8], [1, 3, 5, 9]]\n",
      "Maximum element: 9\n"
     ]
    }
   ],
   "source": [
    "#Task05: Find the Maximum Element in a Nested List\n",
    "def find_max(lst):\n",
    "    return max(flatten(lst))\n",
    "\n",
    "def main():\n",
    "    x = int(input(\"Enter the number of sublists: \"))\n",
    "    list1 = []\n",
    "    \n",
    "    for i in range(x):\n",
    "        y = int(input(f\"Enter the number of elements in sublist {i+1}: \"))\n",
    "        sublist = []\n",
    "        for j in range(y):\n",
    "            sublist.append(int(input(f\"Enter element {j+1} of sublist {i+1}: \")))\n",
    "        list1.append(sublist)\n",
    "    \n",
    "    print(\"Original Nested List:\", list1)\n",
    "    print(\"Maximum element:\", find_max(list1))\n",
    "    \n",
    "if __name__ == \"__main__\":\n",
    "    main()"
   ]
  },
  {
   "cell_type": "code",
   "execution_count": 43,
   "id": "ec40a069-e72e-4e97-8f45-3d9007cc17c5",
   "metadata": {},
   "outputs": [
    {
     "name": "stdin",
     "output_type": "stream",
     "text": [
      "Enter the number of sublists:  3\n",
      "Enter the number of elements in sublist 1:  5\n",
      "Enter element 1 of sublist 1:  1\n",
      "Enter element 2 of sublist 1:  2\n",
      "Enter element 3 of sublist 1:  3\n",
      "Enter element 4 of sublist 1:  4\n",
      "Enter element 5 of sublist 1:  5\n",
      "Enter the number of elements in sublist 2:  3\n",
      "Enter element 1 of sublist 2:  4\n",
      "Enter element 2 of sublist 2:  7\n",
      "Enter element 3 of sublist 2:  9\n",
      "Enter the number of elements in sublist 3:  2\n",
      "Enter element 1 of sublist 3:  6\n",
      "Enter element 2 of sublist 3:  8\n",
      "Enter element to find:  3\n"
     ]
    },
    {
     "name": "stdout",
     "output_type": "stream",
     "text": [
      "Original Nested List: [[1, 2, 3, 4, 5], [4, 7, 9], [6, 8]]\n",
      "Occurrences of element: 1\n"
     ]
    }
   ],
   "source": [
    "#Task06: Count Occurrences of an Element in a Nested List\n",
    "def count_occurrences(lst, elem):\n",
    "    return flatten(lst).count(elem)\n",
    "\n",
    "def main():\n",
    "    x = int(input(\"Enter the number of sublists: \"))\n",
    "    list1 = []\n",
    "    \n",
    "    for i in range(x):\n",
    "        y = int(input(f\"Enter the number of elements in sublist {i+1}: \"))\n",
    "        sublist = []\n",
    "        for j in range(y):\n",
    "            sublist.append(int(input(f\"Enter element {j+1} of sublist {i+1}: \")))\n",
    "        list1.append(sublist)\n",
    "\n",
    "    elem = int(input(\"Enter element to find: \"))    \n",
    "\n",
    "    print(\"Original Nested List:\", list1)\n",
    "    print(\"Occurrences of element:\", count_occurrences(list1, elem))\n",
    "\n",
    "if __name__ == \"__main__\":\n",
    "    main()"
   ]
  },
  {
   "cell_type": "code",
   "execution_count": 46,
   "id": "107b9606-b28c-4ccf-bf14-2b950ba882cf",
   "metadata": {},
   "outputs": [
    {
     "name": "stdin",
     "output_type": "stream",
     "text": [
      "Enter the number of sublists:  3\n",
      "Enter the number of elements in sublist 1:  3\n",
      "Enter element 1 of sublist 1:  10\n",
      "Enter element 2 of sublist 1:  11\n",
      "Enter element 3 of sublist 1:  12\n",
      "Enter the number of elements in sublist 2:  3\n",
      "Enter element 1 of sublist 2:  1\n",
      "Enter element 2 of sublist 2:  2\n",
      "Enter element 3 of sublist 2:  4\n",
      "Enter the number of elements in sublist 3:  4\n",
      "Enter element 1 of sublist 3:  13\n",
      "Enter element 2 of sublist 3:  14\n",
      "Enter element 3 of sublist 3:  15\n",
      "Enter element 4 of sublist 3:  17\n"
     ]
    },
    {
     "name": "stdout",
     "output_type": "stream",
     "text": [
      "Original Nested List: [['10', '11', '12'], ['1', '2', '4'], ['13', '14', '15', '17']]\n",
      "Deep Flattened List: ['10', '11', '12', '1', '2', '4', '13', '14', '15', '17']\n"
     ]
    }
   ],
   "source": [
    "#Task07: Flatten a List of Lists of Lists\n",
    "def deep_flatten(lst):\n",
    "    return flatten(lst)\n",
    "\n",
    "def main():\n",
    "    x = int(input(\"Enter the number of sublists: \"))\n",
    "    list1 = []\n",
    "    \n",
    "    for i in range(x):\n",
    "        y = int(input(f\"Enter the number of elements in sublist {i+1}: \"))\n",
    "        sublist = []\n",
    "        for j in range(y):\n",
    "            sublist.append(input(f\"Enter element {j+1} of sublist {i+1}: \"))\n",
    "        list1.append(sublist)\n",
    "    \n",
    "    print(\"Original Nested List:\", list1)\n",
    "    print(\"Deep Flattened List:\", deep_flatten(list1))\n",
    "\n",
    "if __name__ == \"__main__\":\n",
    "    main()"
   ]
  },
  {
   "cell_type": "code",
   "execution_count": 47,
   "id": "163015f0-1c3c-4a65-be04-235af9787863",
   "metadata": {},
   "outputs": [
    {
     "name": "stdin",
     "output_type": "stream",
     "text": [
      "Enter the number of sublists:  2\n",
      "Enter the number of elements in sublist 1:  4\n",
      "Enter element 1 of sublist 1:  1\n",
      "Enter element 2 of sublist 1:  1\n",
      "Enter element 3 of sublist 1:  2\n",
      "Enter element 4 of sublist 1:  3\n",
      "Enter the number of elements in sublist 2:  4\n",
      "Enter element 1 of sublist 2:  5\n",
      "Enter element 2 of sublist 2:  8\n",
      "Enter element 3 of sublist 2:  9\n",
      "Enter element 4 of sublist 2:  10\n"
     ]
    },
    {
     "name": "stdout",
     "output_type": "stream",
     "text": [
      "Original Nested List: [[1, 1, 2, 3], [5, 8, 9, 10]]\n",
      "Average of elements: 4.875\n"
     ]
    }
   ],
   "source": [
    "#Task08: Nested List Average\n",
    "def average_nested(lst):\n",
    "    flat_list = flatten(lst)\n",
    "    return sum(flat_list) / len(flat_list) if flat_list else 0\n",
    "\n",
    "def main():\n",
    "    x = int(input(\"Enter the number of sublists: \"))\n",
    "    list1 = []\n",
    "    \n",
    "    for i in range(x):\n",
    "        y = int(input(f\"Enter the number of elements in sublist {i+1}: \"))\n",
    "        sublist = []\n",
    "        for j in range(y):\n",
    "            sublist.append(int(input(f\"Enter element {j+1} of sublist {i+1}: \")))\n",
    "        list1.append(sublist)\n",
    "    \n",
    "    print(\"Original Nested List:\", list1)\n",
    "    print(\"Average of elements:\", average_nested(list1))\n",
    "\n",
    "if __name__ == \"__main__\":\n",
    "    main()\n",
    "\n"
   ]
  },
  {
   "cell_type": "markdown",
   "id": "52cb4c05-678d-4fa1-add1-1570f3f7a1d0",
   "metadata": {},
   "source": [
    "#### Numpy and Arrays of Zero"
   ]
  },
  {
   "cell_type": "code",
   "execution_count": 50,
   "id": "57e1a158-69cc-4fe2-9c17-791cb2922aee",
   "metadata": {},
   "outputs": [
    {
     "name": "stdout",
     "output_type": "stream",
     "text": [
      "Collecting numpy\n",
      "  Downloading numpy-2.2.3-cp313-cp313-macosx_14_0_arm64.whl.metadata (62 kB)\n",
      "Downloading numpy-2.2.3-cp313-cp313-macosx_14_0_arm64.whl (5.1 MB)\n",
      "\u001b[2K   \u001b[90m━━━━━━━━━━━━━━━━━━━━━━━━━━━━━━━━━━━━━━━━\u001b[0m \u001b[32m5.1/5.1 MB\u001b[0m \u001b[31m8.9 MB/s\u001b[0m eta \u001b[36m0:00:00\u001b[0ma \u001b[36m0:00:01\u001b[0m\n",
      "Installing collected packages: numpy\n",
      "Successfully installed numpy-2.2.3\n",
      "\n",
      "\u001b[1m[\u001b[0m\u001b[34;49mnotice\u001b[0m\u001b[1;39;49m]\u001b[0m\u001b[39;49m A new release of pip is available: \u001b[0m\u001b[31;49m24.3.1\u001b[0m\u001b[39;49m -> \u001b[0m\u001b[32;49m25.0.1\u001b[0m\n",
      "\u001b[1m[\u001b[0m\u001b[34;49mnotice\u001b[0m\u001b[1;39;49m]\u001b[0m\u001b[39;49m To update, run: \u001b[0m\u001b[32;49m/opt/homebrew/Cellar/jupyterlab/4.3.2_1/libexec/bin/python -m pip install --upgrade pip\u001b[0m\n",
      "Note: you may need to restart the kernel to use updated packages.\n"
     ]
    }
   ],
   "source": [
    "pip install numpy\n"
   ]
  },
  {
   "cell_type": "code",
   "execution_count": 51,
   "id": "46aaf627-0ea0-4af6-b64b-27d0ad063147",
   "metadata": {},
   "outputs": [
    {
     "name": "stdout",
     "output_type": "stream",
     "text": [
      " A zeros array is \n",
      " [[0. 0. 0.]\n",
      " [0. 0. 0.]] with dimensions (2, 3) \n",
      "\n"
     ]
    }
   ],
   "source": [
    "import numpy as np\n",
    "\n",
    "arr_zeros = np.zeros((2,3))\n",
    "print(\" A zeros array is \\n\", arr_zeros, \"with dimensions\", arr_zeros.shape, \"\\n\")"
   ]
  },
  {
   "cell_type": "code",
   "execution_count": 52,
   "id": "b1772eb8-dff0-4ef1-9110-9a972b628d84",
   "metadata": {},
   "outputs": [
    {
     "name": "stdout",
     "output_type": "stream",
     "text": [
      "Array:\n",
      "5\n",
      "Dimension: 0\n",
      "Data type: int64\n",
      "\n",
      "Array:\n",
      "[5 6 7]\n",
      "Dimension: 1\n",
      "Data type: int64\n",
      "\n",
      "Array:\n",
      "[[5 6]\n",
      " [7 8]]\n",
      "Dimension: 2\n",
      "Data type: int64\n",
      "\n"
     ]
    }
   ],
   "source": [
    "zero_dim_array = np.array(5)\n",
    "one_dim_array = np.array([5, 6, 7])\n",
    "n_dim_array = np.array([[5, 6], [7, 8]])\n",
    "\n",
    "for arr in [zero_dim_array, one_dim_array, n_dim_array]:\n",
    "    print(f\"Array:\\n{arr}\\nDimension: {arr.ndim}\\nData type: {arr.dtype}\\n\")"
   ]
  },
  {
   "cell_type": "code",
   "execution_count": 53,
   "id": "5bba0132-1b60-4208-82a1-dc40a8c540b2",
   "metadata": {},
   "outputs": [
    {
     "name": "stdout",
     "output_type": "stream",
     "text": [
      "1\n",
      "2\n",
      "Dimension of 3d array: {arr_3d.ndim}\n",
      "Shape of 1d array: {arr_1d.shape}\n",
      "Shape of 2d array: {arr_2d.shape}\n",
      "Shape of 3d array: {arr_3d.shape}\n",
      "Size of 1d array: {arr_1d.size}\n",
      "Size of 2d array: {arr_2d.size}\n",
      "Size of 3d array: {arr_3d.size}\n",
      "Datatype of 1d array: {arr_1d.dtype}\n",
      "Datatype of float array: {arr_float.dtype}\n",
      "Size of items in 1d array: {arr_1d.itemsize}\n",
      "Total memory Consumption: {arr_1d.nbytes}\n",
      "Transposed version of 2D array: {arr_2d.T}\n",
      "1 2 3 4 5 6 "
     ]
    }
   ],
   "source": [
    "arr_1d = np.array([1, 2, 3, 4, 5])\n",
    "print(arr_1d.ndim)\n",
    "# For a 2-D array:\n",
    "arr_2d = np.array([[1, 2, 3],\n",
    "[4, 5, 6]])\n",
    "print(arr_2d.ndim)\n",
    "#For a 3-D array:\n",
    "arr_3d = np.array([[[1, 2, 3],\n",
    "[4, 5, 6]],\n",
    "[[7, 8, 9],\n",
    "[10, 11, 12]]])\n",
    "print(\"Dimension of 3d array: {arr_3d.ndim}\")\n",
    "\n",
    "#.shape Shape of the Array:\n",
    "print(\"Shape of 1d array: {arr_1d.shape}\")\n",
    "print(\"Shape of 2d array: {arr_2d.shape}\")\n",
    "print(\"Shape of 3d array: {arr_3d.shape}\")\n",
    "\n",
    "#.size Total Number of Elements\n",
    "print(\"Size of 1d array: {arr_1d.size}\")\n",
    "print(\"Size of 2d array: {arr_2d.size}\")\n",
    "print(\"Size of 3d array: {arr_3d.size}\")\n",
    "#.dtype Data Type of Elements\n",
    "print(\"Datatype of 1d array: {arr_1d.dtype}\") \n",
    "arr_float = np.array([1.1, 2.2, 3.3])\n",
    "print(\"Datatype of float array: {arr_float.dtype}\") \n",
    "\n",
    "# .itemsize Size of Each Element in Bytes\n",
    "print(\"Size of items in 1d array: {arr_1d.itemsize}\")\n",
    "\n",
    "#.nbytes Total Memory Consumption\n",
    "print(\"Total memory Consumption: {arr_1d.nbytes}\")\n",
    "\n",
    "#print(arr_1d.nbytes)\n",
    "print(\"Transposed version of 2D array: {arr_2d.T}\")\n",
    "\n",
    "#.flat Flattening the Array\n",
    "for item in arr_2d.flat:\n",
    "    print(item, end=\" \")\n",
    "\n",
    "#.real and .imag - Real and Imaginary Parts\n",
    "arr_complex = np.array([1+2j, 3+4j])\n"
   ]
  },
  {
   "cell_type": "code",
   "execution_count": 54,
   "id": "d3bc3008-898e-4e19-85f7-c1c137154b92",
   "metadata": {},
   "outputs": [
    {
     "name": "stdout",
     "output_type": "stream",
     "text": [
      "1. Empty Array (2x2):\n",
      " [[0. 0.]\n",
      " [0. 0.]]\n",
      "\n",
      "2. All Ones Array (4x2):\n",
      " [[1. 1.]\n",
      " [1. 1.]\n",
      " [1. 1.]\n",
      " [1. 1.]]\n",
      "\n",
      "3. Array filled with 7 (3x3):\n",
      " [[7 7 7]\n",
      " [7 7 7]\n",
      " [7 7 7]]\n",
      "\n",
      "4. Zeros Array with Same Shape as Reference Array:\n",
      " [[0 0]\n",
      " [0 0]]\n",
      "\n",
      "5. Ones Array with Same Shape as Reference Array:\n",
      " [[1 1]\n",
      " [1 1]]\n",
      "\n",
      "6. Converted NumPy Array:\n",
      " [1 2 3 4]\n"
     ]
    }
   ],
   "source": [
    "import numpy as np\n",
    "# 1. Initialize an empty array with size 2x2\n",
    "empty_array = np.empty((2, 2))\n",
    "print(\"1. Empty Array (2x2):\\n\", empty_array)\n",
    "\n",
    "# 2. Initialize an all-one array with size 4x2\n",
    "ones_array = np.ones((4, 2))\n",
    "print(\"\\n2. All Ones Array (4x2):\\n\", ones_array)\n",
    "\n",
    "# 3. Return a new array of given shape and type, filled with a fill value\n",
    "fill_value_array = np.full((3, 3), 7)  \n",
    "print(\"\\n3. Array filled with 7 (3x3):\\n\", fill_value_array)\n",
    "\n",
    "# 4. Return a new array of zeros with the same shape and type as a given array\n",
    "reference_array = np.array([[1, 2], [3, 4]])  \n",
    "zeros_like_array = np.zeros_like(reference_array)\n",
    "print(\"\\n4. Zeros Array with Same Shape as Reference Array:\\n\", zeros_like_array)\n",
    "\n",
    "# 5. Return a new array of ones with the same shape and type as a given array\n",
    "ones_like_array = np.ones_like(reference_array)\n",
    "print(\"\\n5. Ones Array with Same Shape as Reference Array:\\n\", ones_like_array)\n",
    "\n",
    "# 6. Convert an existing list to a NumPy array\n",
    "new_list = [1, 2, 3, 4]\n",
    "numpy_array = np.array(new_list)\n",
    "print(\"\\n6. Converted NumPy Array:\\n\", numpy_array)\n"
   ]
  },
  {
   "cell_type": "code",
   "execution_count": 55,
   "id": "aee24bee-46a5-4751-8fa4-4379e48a5a30",
   "metadata": {},
   "outputs": [
    {
     "name": "stdout",
     "output_type": "stream",
     "text": [
      "\n",
      "1. Array with values ranging from 10 to 49:\n",
      " [10 11 12 13 14 15 16 17 18 19 20 21 22 23 24 25 26 27 28 29 30 31 32 33\n",
      " 34 35 36 37 38 39 40 41 42 43 44 45 46 47 48 49]\n",
      "\n",
      "2. 3X3 matrix with values ranging from 0 to 8:\n",
      " [[0 1 2]\n",
      " [3 4 5]\n",
      " [6 7 8]]\n",
      "\n",
      "3. 3X3 identity matrix:\n",
      " [[1. 0. 0.]\n",
      " [0. 1. 0.]\n",
      " [0. 0. 1.]]\n",
      "\n",
      "4 .Random array of size 30:\n",
      " [0.94010241 0.7747465  0.74159027 0.42666813 0.79166413 0.27181179\n",
      " 0.06690041 0.89424669 0.4428236  0.9840479  0.20337684 0.27987382\n",
      " 0.89047238 0.18051961 0.82245633 0.8861197  0.0093609  0.18933509\n",
      " 0.02270793 0.89548766 0.69204569 0.93473268 0.14766034 0.77043183\n",
      " 0.59610541 0.94504297 0.63460053 0.66990576 0.56141993 0.18326211]\n",
      "\n",
      "4.1. Mean of above array:\n",
      " 0.5616506441531511\n",
      "\n",
      "5. 10X10 array with random values:\n",
      " [[0.97598839 0.55792328 0.27690452 0.3345282  0.71240655 0.07089429\n",
      "  0.83501322 0.69175243 0.89721956 0.10604546]\n",
      " [0.32447138 0.898212   0.34427886 0.95270512 0.54062393 0.50017137\n",
      "  0.69599449 0.63293851 0.09654502 0.32047792]\n",
      " [0.96277126 0.97266161 0.49219955 0.30489854 0.65132196 0.55239582\n",
      "  0.62071018 0.94480897 0.8247427  0.33648629]\n",
      " [0.5674727  0.34698814 0.59387096 0.70343018 0.0716823  0.39621202\n",
      "  0.05897667 0.58423763 0.28560864 0.35038082]\n",
      " [0.98403789 0.2173247  0.28838497 0.53229046 0.26448754 0.3868087\n",
      "  0.71466536 0.74744057 0.44210448 0.27379527]\n",
      " [0.77869081 0.4436237  0.37658423 0.59835121 0.24685477 0.33394448\n",
      "  0.3633019  0.09719327 0.92808077 0.43972156]\n",
      " [0.82374096 0.69711972 0.02844648 0.0785972  0.48382954 0.37997875\n",
      "  0.56137151 0.3290676  0.69163366 0.08028979]\n",
      " [0.28111252 0.18080623 0.21667516 0.89657854 0.38380593 0.83078596\n",
      "  0.55621982 0.09694098 0.34570241 0.9322717 ]\n",
      " [0.79757523 0.95782571 0.14230139 0.35583753 0.46903283 0.54503428\n",
      "  0.56755299 0.30322261 0.39209672 0.90820586]\n",
      " [0.9318367  0.93049193 0.18393371 0.35533766 0.88545794 0.14619234\n",
      "  0.31974843 0.61831887 0.90613441 0.49803104]]\n",
      "\n",
      "5.1. Minimum Value:\n",
      " 0.028446483180763926\n",
      "\n",
      "5.2. Maximum Value:\n",
      " 0.9840378885899087\n",
      "\n",
      "6. Zero array of size 10 and 5th element replaced with 1:\n",
      " [0. 0. 0. 0. 1. 0. 0. 0. 0. 0.]\n",
      "\n",
      "7. Reversed Array:\n",
      " [0 4 0 0 2 1]\n",
      "\n",
      "8. 2d array with 1 on border and 0 inside:\n",
      " [[1. 1. 1. 1. 1.]\n",
      " [1. 0. 0. 0. 1.]\n",
      " [1. 0. 0. 0. 1.]\n",
      " [1. 0. 0. 0. 1.]\n",
      " [1. 1. 1. 1. 1.]]\n",
      "\n",
      "9. 8X8 matrix filled with a checkerboard pattern:\n",
      " [[0 1 0 1 0 1 0 1]\n",
      " [1 0 1 0 1 0 1 0]\n",
      " [0 1 0 1 0 1 0 1]\n",
      " [1 0 1 0 1 0 1 0]\n",
      " [0 1 0 1 0 1 0 1]\n",
      " [1 0 1 0 1 0 1 0]\n",
      " [0 1 0 1 0 1 0 1]\n",
      " [1 0 1 0 1 0 1 0]]\n"
     ]
    }
   ],
   "source": [
    "# 1. Create an array with values ranging from 10 to 49.\n",
    "array_10_49 = np.arange(10, 50)\n",
    "print(\"\\n1. Array with values ranging from 10 to 49:\\n\", array_10_49)\n",
    "\n",
    "# 2. Create a 3X3 matrix with values ranging from 0 to 8.\n",
    "matrix_3x3 = np.arange(9).reshape(3, 3)\n",
    "print(\"\\n2. 3X3 matrix with values ranging from 0 to 8:\\n\", matrix_3x3)\n",
    "\n",
    "# 3. Create a 3X3 identity matrix.\n",
    "identity_matrix = np.eye(3)\n",
    "print(\"\\n3. 3X3 identity matrix:\\n\", identity_matrix)\n",
    "\n",
    "# 4. Create a random array of size 30 and find the mean of the array.\n",
    "random_array = np.random.random(30)\n",
    "mean_value = random_array.mean()\n",
    "print(\"\\n4 .Random array of size 30:\\n\", random_array)\n",
    "print(\"\\n4.1. Mean of above array:\\n\", mean_value)\n",
    "\n",
    "# 5. Create a 10X10 array with random values and find the minimum and maximum values.\n",
    "random_matrix = np.random.random((10, 10))\n",
    "min_value = random_matrix.min()\n",
    "max_value = random_matrix.max()\n",
    "print(\"\\n5. 10X10 array with random values:\\n\", random_matrix)\n",
    "print(\"\\n5.1. Minimum Value:\\n\", min_value)\n",
    "print(\"\\n5.2. Maximum Value:\\n\", max_value)\n",
    "\n",
    "# 6. Create a zero array of size 10 and replace 5th element with 1.\n",
    "zero_array = np.zeros(10)\n",
    "zero_array[4] = 1  # Indexing starts from 0\n",
    "print(\"\\n6. Zero array of size 10 and 5th element replaced with 1:\\n\", zero_array)\n",
    "\n",
    "# 7. Reverse an array arr = [1,2,0,0,4,0].\n",
    "arr = np.array([1, 2, 0, 0, 4, 0])\n",
    "reversed_arr = arr[::-1]\n",
    "print(\"\\n7. Reversed Array:\\n\", reversed_arr)\n",
    "\n",
    "# 8. Create a 2d array with 1 on border and 0 inside.\n",
    "border_array = np.ones((5, 5))\n",
    "border_array[1:-1, 1:-1] = 0\n",
    "print(\"\\n8. 2d array with 1 on border and 0 inside:\\n\", border_array)\n",
    "\n",
    "# 9. Create a 8X8 matrix and fill it with a checkerboard pattern.\n",
    "checkerboard = np.zeros((8, 8), dtype=int)\n",
    "checkerboard[1::2, ::2] = 1\n",
    "checkerboard[::2, 1::2] = 1\n",
    "print(\"\\n9. 8X8 matrix filled with a checkerboard pattern:\\n\", checkerboard)"
   ]
  },
  {
   "cell_type": "code",
   "execution_count": 56,
   "id": "766cf634-a9ab-43d6-a1c5-d66af414ba8d",
   "metadata": {},
   "outputs": [
    {
     "name": "stdout",
     "output_type": "stream",
     "text": [
      "Addition of x and y:\n",
      " [[ 6  8]\n",
      " [10 13]]\n",
      "\n",
      "Subtraction of x and y:\n",
      " [[-4 -4]\n",
      " [-4 -3]]\n",
      "\n",
      "Multiplication of x with 3:\n",
      " [[ 3  6]\n",
      " [ 9 15]]\n",
      "\n",
      "Square of each element of x:\n",
      " [[ 1  4]\n",
      " [ 9 25]]\n",
      "\n",
      "Dot product of v and w: 219\n",
      "\n",
      "Dot product of x and v:\n",
      " [29 77]\n",
      "\n",
      "Dot product of x and y:\n",
      " [[19 22]\n",
      " [50 58]]\n",
      "\n",
      "Concatenation of x and y along rows:\n",
      " [[1 2]\n",
      " [3 5]\n",
      " [5 6]\n",
      " [7 8]]\n",
      "\n",
      "Concatenation of v and w along columns:\n",
      " [[ 9 10]\n",
      " [11 12]]\n",
      "\n",
      "Error while concatenating x and v: all the input arrays must have same number of dimensions, but the array at index 0 has 2 dimension(s) and the array at index 1 has 1 dimension(s)\n",
      "Reason: x has shape (2,2) and v has shape (2,). Their dimensions are incompatible for direct concatenation.\n"
     ]
    }
   ],
   "source": [
    "import numpy as np\n",
    "\n",
    "# Given arrays\n",
    "x = np.array([[1, 2], [3, 5]])\n",
    "y = np.array([[5, 6], [7, 8]])\n",
    "v = np.array([9, 10])\n",
    "w = np.array([11, 12])\n",
    "\n",
    "# 1. Add the two arrays\n",
    "add_xy = x + y\n",
    "print(\"Addition of x and y:\\n\", add_xy)\n",
    "\n",
    "# 2. Subtract the two arrays\n",
    "sub_xy = x - y\n",
    "print(\"\\nSubtraction of x and y:\\n\", sub_xy)\n",
    "\n",
    "# 3. Multiply the array x with any integer (e.g., 3)\n",
    "mult_x = x * 3\n",
    "print(\"\\nMultiplication of x with 3:\\n\", mult_x)\n",
    "\n",
    "# 4. Find the square of each element of x\n",
    "square_x = x ** 2\n",
    "print(\"\\nSquare of each element of x:\\n\", square_x)\n",
    "\n",
    "# 5. Dot product calculations\n",
    "dot_vw = np.dot(v, w)\n",
    "dot_xv = np.dot(x, v)\n",
    "dot_xy = np.dot(x, y)\n",
    "\n",
    "print(\"\\nDot product of v and w:\", dot_vw)\n",
    "print(\"\\nDot product of x and v:\\n\", dot_xv)\n",
    "print(\"\\nDot product of x and y:\\n\", dot_xy)\n",
    "\n",
    "# 6. Concatenation\n",
    "concat_xy_row = np.concatenate((x, y), axis=0)  # Along rows\n",
    "concat_vw_col = np.vstack((v, w))  # Along columns\n",
    "\n",
    "print(\"\\nConcatenation of x and y along rows:\\n\", concat_xy_row)\n",
    "print(\"\\nConcatenation of v and w along columns:\\n\", concat_vw_col)\n",
    "\n",
    "# 7. Concatenate x and v\n",
    "try:\n",
    "    concat_xv = np.concatenate((x, v), axis=0)  # Attempting to concatenate x and v\n",
    "    print(\"\\nConcatenation of x and v:\\n\", concat_xv)\n",
    "except ValueError as e:\n",
    "    print(\"\\nError while concatenating x and v:\", e)\n",
    "    print(\"Reason: x has shape (2,2) and v has shape (2,). Their dimensions are incompatible for direct concatenation.\")\n"
   ]
  },
  {
   "cell_type": "code",
   "execution_count": 57,
   "id": "8c054ba6-6b09-4ae2-b371-d609dfd2a983",
   "metadata": {},
   "outputs": [
    {
     "name": "stdout",
     "output_type": "stream",
     "text": [
      "A * A_inv:\n",
      " [[1.00000000e+00 0.00000000e+00]\n",
      " [1.77635684e-15 1.00000000e+00]]\n",
      "\n",
      "Identity Matrix:\n",
      " [[1. 0.]\n",
      " [0. 1.]]\n"
     ]
    }
   ],
   "source": [
    "A = np.array([[3, 4], [7, 8]])\n",
    "B = np.array([[5, 3], [2, 1]])\n",
    "\n",
    "A_inv = np.linalg.inv(A)\n",
    "\n",
    "identity_matrix = np.dot(A, A_inv)\n",
    "\n",
    "print(\"A * A_inv:\\n\", identity_matrix)\n",
    "print(\"\\nIdentity Matrix:\\n\", np.eye(2))  # Expected identity matrix\n"
   ]
  },
  {
   "cell_type": "code",
   "execution_count": 58,
   "id": "9ba6c1b1-04c5-4087-8352-397a0e5b8ded",
   "metadata": {},
   "outputs": [
    {
     "name": "stdout",
     "output_type": "stream",
     "text": [
      "\n",
      "AB:\n",
      " [[23 13]\n",
      " [51 29]]\n",
      "\n",
      "BA:\n",
      " [[36 44]\n",
      " [13 16]]\n",
      "\n",
      "Are AB and BA equal? False\n"
     ]
    }
   ],
   "source": [
    "AB = np.dot(A, B)\n",
    "BA = np.dot(B, A)\n",
    "\n",
    "print(\"\\nAB:\\n\", AB)\n",
    "print(\"\\nBA:\\n\", BA)\n",
    "print(\"\\nAre AB and BA equal?\", np.array_equal(AB, BA))"
   ]
  },
  {
   "cell_type": "code",
   "execution_count": 59,
   "id": "4b9f4723-0cd7-4db4-8ce2-b39174b764d9",
   "metadata": {},
   "outputs": [
    {
     "name": "stdout",
     "output_type": "stream",
     "text": [
      "\n",
      "(AB)^T:\n",
      " [[23 51]\n",
      " [13 29]]\n",
      "\n",
      "B^T * A^T:\n",
      " [[23 51]\n",
      " [13 29]]\n",
      "\n",
      "Are (AB)^T and B^T * A^T equal? True\n"
     ]
    }
   ],
   "source": [
    "AB_T = np.transpose(AB)\n",
    "\n",
    "BT = np.transpose(B)\n",
    "AT = np.transpose(A)\n",
    "BT_AT = np.dot(BT, AT)\n",
    "\n",
    "print(\"\\n(AB)^T:\\n\", AB_T)\n",
    "print(\"\\nB^T * A^T:\\n\", BT_AT)\n",
    "print(\"\\nAre (AB)^T and B^T * A^T equal?\", np.array_equal(AB_T, BT_AT))\n"
   ]
  },
  {
   "cell_type": "code",
   "execution_count": 60,
   "id": "8e879f2e-0f18-49f2-b2b2-38cec3f15c15",
   "metadata": {},
   "outputs": [
    {
     "name": "stdout",
     "output_type": "stream",
     "text": [
      "\n",
      "Solution for (x, y, z):\n",
      " [ 2.  1. -2.]\n"
     ]
    }
   ],
   "source": [
    "A = np.array([[2, -3, 1], [1, -1, 2], [3, 1, -1]])\n",
    "B = np.array([-1, -3, 9])\n",
    "\n",
    "A_inv = np.linalg.inv(A)\n",
    "\n",
    "X = np.dot(A_inv, B)\n",
    "\n",
    "print(\"\\nSolution for (x, y, z):\\n\", X)\n"
   ]
  },
  {
   "cell_type": "code",
   "execution_count": 62,
   "id": "5d2e13cd-489c-4826-8d2a-3113554e30f2",
   "metadata": {},
   "outputs": [
    {
     "name": "stdout",
     "output_type": "stream",
     "text": [
      "Time taken for element-wise addition using lists: 0.10382795333862305 seconds\n",
      "Time taken for element-wise addition using NumPy: 0.002251863479614258 seconds\n",
      "\n",
      "Time taken for element-wise multiplication using lists: 0.07579970359802246 seconds\n",
      "Time taken for element-wise multiplication using NumPy: 0.0014467239379882812 seconds\n",
      "\n",
      "Time taken for dot product using lists: 0.07658910751342773 seconds\n",
      "Time taken for dot product using NumPy: 0.0008058547973632812 seconds\n",
      "\n",
      "Time taken for matrix multiplication using lists: 86.56947207450867 seconds\n",
      "Time taken for matrix multiplication using NumPy: 0.7724878787994385 seconds\n"
     ]
    }
   ],
   "source": [
    "import numpy as np\n",
    "import time\n",
    "\n",
    "# 1. Element-wise Addition\n",
    "size = 1_000_000\n",
    "\n",
    "# Generate lists and arrays\n",
    "list1 = list(range(size))\n",
    "list2 = list(range(size))\n",
    "\n",
    "array1 = np.arange(size)\n",
    "array2 = np.arange(size)\n",
    "\n",
    "# Using Python lists\n",
    "start_time = time.time()\n",
    "list_addition = [list1[i] + list2[i] for i in range(size)]\n",
    "end_time = time.time()\n",
    "print(\"Time taken for element-wise addition using lists:\", end_time - start_time, \"seconds\")\n",
    "\n",
    "# Using NumPy arrays\n",
    "start_time = time.time()\n",
    "array_addition = array1 + array2\n",
    "end_time = time.time()\n",
    "print(\"Time taken for element-wise addition using NumPy:\", end_time - start_time, \"seconds\")\n",
    "\n",
    "# 2. Element-wise Multiplication\n",
    "\n",
    "# Using Python lists\n",
    "start_time = time.time()\n",
    "list_multiplication = [list1[i] * list2[i] for i in range(size)]\n",
    "end_time = time.time()\n",
    "print(\"\\nTime taken for element-wise multiplication using lists:\", end_time - start_time, \"seconds\")\n",
    "\n",
    "# Using NumPy arrays\n",
    "start_time = time.time()\n",
    "array_multiplication = array1 * array2\n",
    "end_time = time.time()\n",
    "print(\"Time taken for element-wise multiplication using NumPy:\", end_time - start_time, \"seconds\")\n",
    "\n",
    "\n",
    "# 3. Dot Product\n",
    "\n",
    "# Using Python lists\n",
    "start_time = time.time()\n",
    "dot_product_list = sum(list1[i] * list2[i] for i in range(size))\n",
    "end_time = time.time()\n",
    "print(\"\\nTime taken for dot product using lists:\", end_time - start_time, \"seconds\")\n",
    "\n",
    "# Using NumPy arrays\n",
    "start_time = time.time()\n",
    "dot_product_numpy = np.dot(array1, array2)\n",
    "end_time = time.time()\n",
    "print(\"Time taken for dot product using NumPy:\", end_time - start_time, \"seconds\")\n",
    "\n",
    "\n",
    "# 4. Matrix Multiplication\n",
    "matrix_size = 1000\n",
    "\n",
    "# Generate matrices\n",
    "matrix1_list = [[i + j for j in range(matrix_size)] for i in range(matrix_size)]\n",
    "matrix2_list = [[i - j for j in range(matrix_size)] for i in range(matrix_size)]\n",
    "\n",
    "matrix1_np = np.array(matrix1_list)\n",
    "matrix2_np = np.array(matrix2_list)\n",
    "\n",
    "# Using Python lists\n",
    "start_time = time.time()\n",
    "result_matrix_list = [[sum(matrix1_list[i][k] * matrix2_list[k][j] for k in range(matrix_size))\n",
    "                       for j in range(matrix_size)] for i in range(matrix_size)]\n",
    "end_time = time.time()\n",
    "print(\"\\nTime taken for matrix multiplication using lists:\", end_time - start_time, \"seconds\")\n",
    "\n",
    "# Using NumPy arrays\n",
    "start_time = time.time()\n",
    "result_matrix_np = np.dot(matrix1_np, matrix2_np)\n",
    "end_time = time.time()\n",
    "print(\"Time taken for matrix multiplication using NumPy:\", end_time - start_time, \"seconds\")\n",
    "\n"
   ]
  },
  {
   "cell_type": "code",
   "execution_count": null,
   "id": "9628d39c-a8f7-427a-81b9-ad5fee6eda66",
   "metadata": {},
   "outputs": [],
   "source": []
  }
 ],
 "metadata": {
  "kernelspec": {
   "display_name": "Python 3 (ipykernel)",
   "language": "python",
   "name": "python3"
  },
  "language_info": {
   "codemirror_mode": {
    "name": "ipython",
    "version": 3
   },
   "file_extension": ".py",
   "mimetype": "text/x-python",
   "name": "python",
   "nbconvert_exporter": "python",
   "pygments_lexer": "ipython3",
   "version": "3.13.2"
  }
 },
 "nbformat": 4,
 "nbformat_minor": 5
}
